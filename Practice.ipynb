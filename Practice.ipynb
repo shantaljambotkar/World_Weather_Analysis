{
 "cells": [
  {
   "cell_type": "code",
   "execution_count": 1,
   "id": "4ecc2b55",
   "metadata": {},
   "outputs": [],
   "source": [
    "# Import the dependencies\n",
    "import random\n",
    "import numpy as np\n",
    "import pandas as pd\n",
    "import matplotlib.pyplot as plt\n",
    "import timeit\n",
    "\n",
    "# random.randint(-90, 90)"
   ]
  },
  {
   "cell_type": "code",
   "execution_count": 2,
   "id": "ab80c230",
   "metadata": {},
   "outputs": [
    {
     "name": "stdout",
     "output_type": "stream",
     "text": [
      "1.66 ms ± 164 µs per loop (mean ± std. dev. of 7 runs, 1000 loops each)\n"
     ]
    }
   ],
   "source": [
    "def latitudes(size):\n",
    "    \n",
    "    latitude = []\n",
    "    x = 0\n",
    "    while x<size:\n",
    "        random_lat = random.randint(-90, 89) + random.random()\n",
    "        latitude.append(random_lat)\n",
    "        x+=1\n",
    "    return latitude\n",
    "# Call the function with 1500\n",
    "%timeit latitudes(1500)"
   ]
  },
  {
   "cell_type": "code",
   "execution_count": 4,
   "id": "94e2ad85",
   "metadata": {},
   "outputs": [
    {
     "name": "stdout",
     "output_type": "stream",
     "text": [
      "2.94 µs ± 167 ns per loop (mean ± std. dev. of 7 runs, 100000 loops each)\n"
     ]
    }
   ],
   "source": [
    "%timeit np.random.uniform(-90.000,90.000,size = 50)\n",
    "# longitude"
   ]
  },
  {
   "cell_type": "code",
   "execution_count": 12,
   "id": "6d34376c",
   "metadata": {},
   "outputs": [],
   "source": [
    "lats = np.random.uniform(-90.000, 90.000, size =1500)\n",
    "longs = np.random.uniform(-90.000, 90.000, size =1500)\n",
    "lat_long = zip(lats, longs)\n",
    "\n",
    "coordinates = list(lat_long)"
   ]
  },
  {
   "cell_type": "code",
   "execution_count": 14,
   "id": "ba88ae70",
   "metadata": {},
   "outputs": [
    {
     "name": "stdout",
     "output_type": "stream",
     "text": [
      "Note: you may need to restart the kernel to use updated packages.\n"
     ]
    },
    {
     "name": "stderr",
     "output_type": "stream",
     "text": [
      "C:\\Users\\shant\\anaconda3\\python.exe: No module named pip\n"
     ]
    }
   ],
   "source": [
    "pip install citypy"
   ]
  }
 ],
 "metadata": {
  "kernelspec": {
   "display_name": "Python 3",
   "language": "python",
   "name": "python3"
  },
  "language_info": {
   "codemirror_mode": {
    "name": "ipython",
    "version": 3
   },
   "file_extension": ".py",
   "mimetype": "text/x-python",
   "name": "python",
   "nbconvert_exporter": "python",
   "pygments_lexer": "ipython3",
   "version": "3.8.8"
  }
 },
 "nbformat": 4,
 "nbformat_minor": 5
}
