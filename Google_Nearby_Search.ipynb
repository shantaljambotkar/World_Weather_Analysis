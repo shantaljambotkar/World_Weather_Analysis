{
 "cells": [
  {
   "cell_type": "code",
   "execution_count": 3,
   "id": "7090ea90",
   "metadata": {},
   "outputs": [],
   "source": [
    "# Dependencies and Setup\n",
    "import requests\n",
    "import gmaps\n",
    "\n",
    "# Import API key\n",
    "from config import g_key"
   ]
  },
  {
   "cell_type": "code",
   "execution_count": 4,
   "id": "229cd06d",
   "metadata": {},
   "outputs": [],
   "source": [
    "# Set the parameters to search for a hotel in Paris.\n",
    "params = {\n",
    "    \"radius\": 5000,\n",
    "    \"types\": \"lodging\",\n",
    "    \"key\": g_key,\n",
    "    \"location\": \"48.8566, 2.3522\"}\n",
    "# Use base URL to search for hotels in Paris.\n",
    "base_url = \"https://maps.googleapis.com/maps/api/place/nearbysearch/json\"\n",
    "# Make request and get the JSON data from the search.\n",
    "hotels = requests.get(base_url, params=params).json()\n",
    "\n",
    "\n"
   ]
  },
  {
   "cell_type": "code",
   "execution_count": 5,
   "id": "5e30a719",
   "metadata": {},
   "outputs": [
    {
     "name": "stdout",
     "output_type": "stream",
     "text": [
      "Hôtel Duo\n",
      "Hôtel Britannique - Paris Centre\n",
      "Citadines Les Halles Paris\n",
      "Novotel Paris Les Halles\n",
      "Hôtel Ducs de Bourgogne\n",
      "Citadines Saint-Germain-des-Prés Paris (Apart hotel Paris)\n",
      "Paris France Hôtel\n",
      "Hotel Regina Louvre\n",
      "ibis Paris Gare de Lyon Ledru Rollin 12ème\n",
      "Hôtel des Comédies Paris\n",
      "Hôtel De France Gare de Lyon Bastille\n",
      "Hôtel Prélude Opéra Paris\n",
      "Hôtel Libertel Austerlitz Jardin des Plantes\n",
      "Saint James Albany Paris Hôtel Spa\n",
      "Hôtel Icône\n",
      "Hôtel Esmeralda\n",
      "Albe Hotel\n",
      "Home Latin\n",
      "Hôtel d'Aubusson\n",
      "Hôtel 4 étoiles Parc Saint Séverin Paris 5ème - Esprit de France\n"
     ]
    }
   ],
   "source": [
    "# print only the names of all the hotels\n",
    "for i in range(len(hotels[\"results\"])):\n",
    "   print(hotels['results'][i]['name'])"
   ]
  },
  {
   "cell_type": "code",
   "execution_count": null,
   "id": "f0a8c7c9",
   "metadata": {},
   "outputs": [],
   "source": []
  }
 ],
 "metadata": {
  "kernelspec": {
   "display_name": "Python 3",
   "language": "python",
   "name": "python3"
  },
  "language_info": {
   "codemirror_mode": {
    "name": "ipython",
    "version": 3
   },
   "file_extension": ".py",
   "mimetype": "text/x-python",
   "name": "python",
   "nbconvert_exporter": "python",
   "pygments_lexer": "ipython3",
   "version": "3.8.8"
  }
 },
 "nbformat": 4,
 "nbformat_minor": 5
}
